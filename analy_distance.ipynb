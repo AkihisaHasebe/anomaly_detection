{
 "metadata": {
  "language_info": {
   "codemirror_mode": {
    "name": "ipython",
    "version": 3
   },
   "file_extension": ".py",
   "mimetype": "text/x-python",
   "name": "python",
   "nbconvert_exporter": "python",
   "pygments_lexer": "ipython3",
   "version": "3.6.10-final"
  },
  "orig_nbformat": 2,
  "kernelspec": {
   "name": "python3",
   "display_name": "Python 3.6.10 64-bit",
   "metadata": {
    "interpreter": {
     "hash": "4789517900000966a7d43f9a40ce822028309dab3a41701d2ff4dc875e0b5efc"
    }
   }
  }
 },
 "nbformat": 4,
 "nbformat_minor": 2,
 "cells": [
  {
   "cell_type": "code",
   "execution_count": 74,
   "metadata": {},
   "outputs": [],
   "source": [
    "import numpy as np\n",
    "import pandas as pd\n",
    "from scipy import stats"
   ]
  },
  {
   "cell_type": "code",
   "execution_count": 5,
   "metadata": {},
   "outputs": [],
   "source": [
    "df_train = pd.read_csv(r'logs\\inference\\train_features.csv')\n",
    "df_valid = pd.read_csv(r'logs\\inference\\valid_features.csv')"
   ]
  },
  {
   "cell_type": "code",
   "execution_count": 7,
   "metadata": {},
   "outputs": [],
   "source": [
    "train = df_train.iloc[:,1:].values\n",
    "valid = df_valid.iloc[:,1:].values"
   ]
  },
  {
   "cell_type": "code",
   "execution_count": 8,
   "metadata": {},
   "outputs": [
    {
     "output_type": "execute_result",
     "data": {
      "text/plain": [
       "(450, 512)"
      ]
     },
     "metadata": {},
     "execution_count": 8
    }
   ],
   "source": [
    "train.shape"
   ]
  },
  {
   "cell_type": "code",
   "execution_count": 60,
   "metadata": {},
   "outputs": [],
   "source": [
    "train_unit = np.array([vec/np.linalg.norm(vec) for vec in train])\n",
    "mean_vector = np.mean(train_unit,axis=0)\n",
    "mean_vector = mean_vector / np.linalg.norm(mean_vector)"
   ]
  },
  {
   "source": [],
   "cell_type": "markdown",
   "metadata": {
    "tags": []
   }
  },
  {
   "cell_type": "code",
   "execution_count": 64,
   "metadata": {},
   "outputs": [],
   "source": [
    "def calc_anomalyDeg(x, mean_vector):\n",
    "    x = x / np.linalg.norm(x)\n",
    "    return 1 - np.dot(x,mean_vector)"
   ]
  },
  {
   "cell_type": "code",
   "execution_count": 68,
   "metadata": {
    "tags": []
   },
   "outputs": [],
   "source": [
    "train_anos = np.array([])\n",
    "for t_vec in train_unit:\n",
    "    train_anos = np.append(train_anos,calc_anomalyDeg(t_vec, mean_vector))"
   ]
  },
  {
   "cell_type": "code",
   "execution_count": 71,
   "metadata": {},
   "outputs": [],
   "source": [
    "ano_m = np.mean(train_anos)\n",
    "ano_S = np.mean(train_anos**2)"
   ]
  },
  {
   "cell_type": "code",
   "execution_count": 72,
   "metadata": {},
   "outputs": [],
   "source": [
    "m_mo = (2*ano_m)/(ano_S - ano_m**2)\n",
    "s_mo = (ano_S - ano_m**2)/(2 * ano_m)"
   ]
  },
  {
   "cell_type": "code",
   "execution_count": 73,
   "metadata": {},
   "outputs": [
    {
     "output_type": "execute_result",
     "data": {
      "text/plain": [
       "(635.9847192611193, 0.001572364822163951)"
      ]
     },
     "metadata": {},
     "execution_count": 73
    }
   ],
   "source": [
    "m_mo, s_mo"
   ]
  },
  {
   "cell_type": "code",
   "execution_count": null,
   "metadata": {},
   "outputs": [],
   "source": []
  }
 ]
}