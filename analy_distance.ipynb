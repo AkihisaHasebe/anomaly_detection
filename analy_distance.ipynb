{
 "metadata": {
  "language_info": {
   "codemirror_mode": {
    "name": "ipython",
    "version": 3
   },
   "file_extension": ".py",
   "mimetype": "text/x-python",
   "name": "python",
   "nbconvert_exporter": "python",
   "pygments_lexer": "ipython3",
   "version": "3.6.10-final"
  },
  "orig_nbformat": 2,
  "kernelspec": {
   "name": "python3",
   "display_name": "Python 3.6.10 64-bit ('pytorch_15': conda)",
   "metadata": {
    "interpreter": {
     "hash": "4789517900000966a7d43f9a40ce822028309dab3a41701d2ff4dc875e0b5efc"
    }
   }
  }
 },
 "nbformat": 4,
 "nbformat_minor": 2,
 "cells": [
  {
   "cell_type": "code",
   "execution_count": 15,
   "metadata": {},
   "outputs": [],
   "source": [
    "import numpy as np\n",
    "import pandas as pd\n",
    "from scipy import stats\n",
    "from matplotlib import pyplot as plt"
   ]
  },
  {
   "cell_type": "code",
   "execution_count": 2,
   "metadata": {},
   "outputs": [],
   "source": [
    "df_train = pd.read_csv(r'logs\\inference\\train_features.csv')\n",
    "df_valid = pd.read_csv(r'logs\\inference\\valid_features.csv')"
   ]
  },
  {
   "cell_type": "code",
   "execution_count": 3,
   "metadata": {},
   "outputs": [],
   "source": [
    "train = df_train.iloc[:,1:].values\n",
    "valid = df_valid.iloc[:,1:].values"
   ]
  },
  {
   "cell_type": "code",
   "execution_count": 4,
   "metadata": {},
   "outputs": [
    {
     "output_type": "execute_result",
     "data": {
      "text/plain": [
       "(450, 512)"
      ]
     },
     "metadata": {},
     "execution_count": 4
    }
   ],
   "source": [
    "train.shape"
   ]
  },
  {
   "cell_type": "code",
   "execution_count": 5,
   "metadata": {},
   "outputs": [],
   "source": [
    "train_unit = np.array([vec/np.linalg.norm(vec) for vec in train])\n",
    "mean_vector = np.mean(train_unit,axis=0)\n",
    "mean_vector = mean_vector / np.linalg.norm(mean_vector)"
   ]
  },
  {
   "source": [],
   "cell_type": "markdown",
   "metadata": {
    "tags": []
   }
  },
  {
   "cell_type": "code",
   "execution_count": 6,
   "metadata": {},
   "outputs": [],
   "source": [
    "def calc_anomalyDeg(x, mean_vector):\n",
    "    x = x / np.linalg.norm(x)\n",
    "    return 1 - np.dot(x,mean_vector)"
   ]
  },
  {
   "cell_type": "code",
   "execution_count": 7,
   "metadata": {
    "tags": []
   },
   "outputs": [],
   "source": [
    "train_anos = np.array([])\n",
    "for t_vec in train_unit:\n",
    "    train_anos = np.append(train_anos,calc_anomalyDeg(t_vec, mean_vector))"
   ]
  },
  {
   "cell_type": "code",
   "execution_count": 8,
   "metadata": {},
   "outputs": [],
   "source": [
    "ano_m = np.mean(train_anos)\n",
    "ano_S = np.mean(train_anos**2)"
   ]
  },
  {
   "cell_type": "code",
   "execution_count": 20,
   "metadata": {},
   "outputs": [],
   "source": [
    "m_mo = (2*ano_m**2)/(ano_S - ano_m**2)\n",
    "s_mo = (ano_S - ano_m**2)/(2 * ano_m)"
   ]
  },
  {
   "cell_type": "code",
   "execution_count": 21,
   "metadata": {},
   "outputs": [
    {
     "output_type": "execute_result",
     "data": {
      "text/plain": [
       "(6.532391273691134, 0.001572364822163951)"
      ]
     },
     "metadata": {},
     "execution_count": 21
    }
   ],
   "source": [
    "m_mo, s_mo"
   ]
  },
  {
   "cell_type": "code",
   "execution_count": 72,
   "metadata": {},
   "outputs": [
    {
     "output_type": "execute_result",
     "data": {
      "text/plain": [
       "0.03688569052460508"
      ]
     },
     "metadata": {},
     "execution_count": 72
    }
   ],
   "source": [
    "th = stats.chi2.ppf(0.999,df=m_mo,scale=s_mo)\n",
    "th"
   ]
  },
  {
   "cell_type": "code",
   "execution_count": 77,
   "metadata": {},
   "outputs": [],
   "source": [
    "valid_anos = np.array([])\n",
    "for v_vec in valid:\n",
    "    valid_anos = np.append(valid_anos, calc_anomalyDeg(v_vec, mean_vector))"
   ]
  },
  {
   "cell_type": "code",
   "execution_count": 78,
   "metadata": {},
   "outputs": [],
   "source": [
    "df_valid_result = [1 if ano >= th else 0 for ano in valid_anos]"
   ]
  },
  {
   "cell_type": "code",
   "execution_count": 79,
   "metadata": {},
   "outputs": [],
   "source": [
    "valid_path = df_valid.iloc[:,0].values\n",
    "\n",
    "result = np.vstack([valid_path, valid_anos,df_valid_result])\n",
    "\n",
    "df_result = pd.DataFrame(result).T"
   ]
  },
  {
   "cell_type": "code",
   "execution_count": 80,
   "metadata": {},
   "outputs": [],
   "source": [
    "df_result.to_csv('logs/inference/result.csv')"
   ]
  },
  {
   "cell_type": "code",
   "execution_count": null,
   "metadata": {},
   "outputs": [],
   "source": []
  },
  {
   "cell_type": "code",
   "execution_count": null,
   "metadata": {},
   "outputs": [],
   "source": []
  },
  {
   "cell_type": "code",
   "execution_count": null,
   "metadata": {},
   "outputs": [],
   "source": []
  }
 ]
}